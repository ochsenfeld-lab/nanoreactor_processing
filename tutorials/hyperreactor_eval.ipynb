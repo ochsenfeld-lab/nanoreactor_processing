{
 "cells": [
  {
   "cell_type": "markdown",
   "id": "b11680da",
   "metadata": {},
   "source": [
    "Insert all required packages.\n",
    "----------------"
   ]
  },
  {
   "cell_type": "code",
   "execution_count": 7,
   "id": "dbf27582-bd94-4820-93e4-091a1dfa0912",
   "metadata": {},
   "outputs": [],
   "source": [
    "from nanoreactor_processing import *\n",
    "from nanoreactor_processing import NanoSim\n",
    "from nanoreactor_processing import NanoNetwork      "
   ]
  },
  {
   "cell_type": "markdown",
   "id": "816f0e9f",
   "metadata": {},
   "source": [
    "Initialize NanoSim object with trajectory and bond orders file.\n",
    "--------------------"
   ]
  },
  {
   "cell_type": "code",
   "execution_count": null,
   "id": "cdafb94e-782a-40fe-a665-028a1fa2452a",
   "metadata": {},
   "outputs": [],
   "source": [
    "# initialize NanoSim object\n",
    "\n",
    "# type 1 (w/o 'mols.dat' file)\n",
    "nanoSim = NanoSim(<path_to_traj>, <path_to_bo>)\n",
    "\n",
    "# type 2\n",
    "#nanoSim = NanoSim(sys.argv[1], sys.argv[2], sys.argv[3])"
   ]
  },
  {
   "cell_type": "markdown",
   "id": "68a177a4",
   "metadata": {},
   "source": [
    "Compute fragments with built-in algorithm.\n",
    "-----------------------"
   ]
  },
  {
   "cell_type": "code",
   "execution_count": null,
   "id": "bdba85d0-e637-454c-81f2-daac1ea11f71",
   "metadata": {},
   "outputs": [],
   "source": [
    "# compute fragments\n",
    "# comment next row if you use second type of initialization\n",
    "nanoSim.generate_frag_lists()\n",
    "\n",
    "# generate SMILES and fill in data frame\n",
    "nanoSim.generate_mols_smiles()\n",
    "nanoSim.generate_df()"
   ]
  },
  {
   "cell_type": "markdown",
   "id": "f4be7501",
   "metadata": {},
   "source": [
    "Generate mol and simulation grids and plot network.\n",
    "----------------------------"
   ]
  },
  {
   "cell_type": "code",
   "execution_count": null,
   "id": "bc81d761-54da-4d0e-acf0-2529dbd59d7e",
   "metadata": {},
   "outputs": [],
   "source": [
    "# plot mol grid and bar plot\n",
    "plot_tools.generate_mol_grid(nanoSim.df)\n",
    "plot_tools.generate_bar_plot(nanoSim.df)\n",
    "\n",
    "# make reactions list and network\n",
    "# start at step 50 because the contraction starts at 125 fs (total period=500 fs) at we store every 5th step for 0.5 fs long steps\n",
    "reactions_list = nanoreactor_network.construct_reactions_list(nanoSim.df, start_ts_index=200, period_ts_steps=50)\n",
    "\n",
    "if reactions_list==[]:\n",
    "    print('No events found!')\n",
    "else:\n",
    "    nanoNetwork = NanoNetwork()\n",
    "    nanoNetwork.create_network(reactions_list)\n",
    "\n",
    "    # plot network graphs\n",
    "    plot_tools.generate_network_grid(nanoNetwork)\n",
    "    plot_tools.plot_static_network_kk(nanoNetwork)\n",
    "    plot_tools.plot_static_network_shell(nanoNetwork)"
   ]
  }
 ],
 "metadata": {
  "kernelspec": {
   "display_name": "Python 3 (ipykernel)",
   "language": "python",
   "name": "python3"
  },
  "language_info": {
   "codemirror_mode": {
    "name": "ipython",
    "version": 3
   },
   "file_extension": ".py",
   "mimetype": "text/x-python",
   "name": "python",
   "nbconvert_exporter": "python",
   "pygments_lexer": "ipython3",
   "version": "3.8.20"
  }
 },
 "nbformat": 4,
 "nbformat_minor": 5
}
